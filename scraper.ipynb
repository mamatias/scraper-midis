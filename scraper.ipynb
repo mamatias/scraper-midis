{
 "cells": [
  {
   "cell_type": "markdown",
   "metadata": {},
   "source": [
    "# Scraper para bajar MIDIS\n",
    "Se intenta procesar el MIDI para sacarle la línea melódica"
   ]
  },
  {
   "cell_type": "code",
   "execution_count": 22,
   "metadata": {},
   "outputs": [],
   "source": [
    "import requests\n",
    "import urllib.request\n",
    "import time\n",
    "import os\n",
    "from bs4 import BeautifulSoup"
   ]
  },
  {
   "cell_type": "code",
   "execution_count": 23,
   "metadata": {},
   "outputs": [
    {
     "name": "stdout",
     "output_type": "stream",
     "text": [
      "Respuesta: <Response [200]>\n"
     ]
    }
   ],
   "source": [
    "url = 'http://www.angelfire.com/sd/par/midi.html'\n",
    "response = requests.get(url)\n",
    "print('Respuesta: {}'.format(response))"
   ]
  },
  {
   "cell_type": "markdown",
   "metadata": {},
   "source": [
    "*Chequeo de que el directorio exista. Si no se crea.*"
   ]
  },
  {
   "cell_type": "code",
   "execution_count": 29,
   "metadata": {},
   "outputs": [],
   "source": [
    "folder = 'midis'\n",
    "exist_dir = os.path.exists('./{}'.format(folder))\n",
    "if not exist_dir:\n",
    "    os.mkdir(folder)"
   ]
  },
  {
   "cell_type": "code",
   "execution_count": 30,
   "metadata": {},
   "outputs": [
    {
     "name": "stdout",
     "output_type": "stream",
     "text": [
      "Link: http://www.angelfire.com/sd/par/midi/aluisemiliorecabarren.mid || Path: ./midis/songs1.mid\n",
      "Link: http://www.angelfire.com/sd/par/midi/charagua.mid || Path: ./midis/songs2.mid\n",
      "Link: http://www.angelfire.com/sd/par/midi/canciondelminero.mid || Path: ./midis/songs3.mid\n",
      "Link: http://www.angelfire.com/sd/par/midi/dejalavidavolar.mid || Path: ./midis/songs4.mid\n",
      "Link: http://www.angelfire.com/sd/par/midi/elcigarrito.mid || Path: ./midis/songs5.mid\n",
      "Link: http://www.angelfire.com/sd/par/midi/elaparecido.mid || Path: ./midis/songs6.mid\n",
      "Link: http://www.angelfire.com/sd/par/midi/elalmallenadebanderas.mid || Path: ./midis/songs7.mid\n",
      "Link: http://www.angelfire.com/sd/par/midi/elderechodevivirenpaz.mid || Path: ./midis/songs8.mid\n",
      "Link: http://www.angelfire.com/sd/par/midi/elcarretero.mid || Path: ./midis/songs9.mid\n",
      "Link: http://www.angelfire.com/sd/par/midi/elmartillo.mid || Path: ./midis/songs10.mid\n",
      "Link: http://www.angelfire.com/sd/par/midi/elhombreesuncreador.mid || Path: ./midis/songs11.mid\n",
      "Link: http://www.angelfire.com/sd/par/midi/lacarpadelascoliguillas.mid || Path: ./midis/songs12.mid\n",
      "Link: http://www.angelfire.com/sd/par/midi/enelriomapocho.mid || Path: ./midis/songs13.mid\n",
      "Link: http://www.angelfire.com/sd/par/midi/enelriomapocho1.mid || Path: ./midis/songs14.mid\n",
      "Link: http://www.angelfire.com/sd/par/midi/lapartida.mid || Path: ./midis/songs15.mid\n",
      "Link: http://www.angelfire.com/sd/par/midi/lalunasiempreesmuylinda.mid || Path: ./midis/songs16.mid\n",
      "Link: http://www.angelfire.com/sd/par/midi/lascasitasdelbarrioalto.mid || Path: ./midis/songs17.mid\n",
      "Link: http://www.angelfire.com/sd/par/midi/latoma.mid || Path: ./midis/songs18.mid\n",
      "Link: http://www.angelfire.com/sd/par/midi/luchin.mid || Path: ./midis/songs19.mid\n",
      "Link: http://www.angelfire.com/sd/par/midi/lounicoquetengo.mid || Path: ./midis/songs20.mid\n",
      "Link: http://www.angelfire.com/sd/par/midi/palomaquierocontarte.mid || Path: ./midis/songs21.mid\n",
      "Link: http://www.angelfire.com/sd/par/midi/manifiesto.mid || Path: ./midis/songs22.mid\n",
      "Link: http://www.angelfire.com/sd/par/midi/runrun.mid || Path: ./midis/songs23.mid\n",
      "Link: http://www.angelfire.com/sd/par/midi/rindelangelito.mid || Path: ./midis/songs24.mid\n",
      "Link: http://www.angelfire.com/sd/par/midi/vamosporanchocamino.mid || Path: ./midis/songs25.mid\n",
      "Link: http://www.angelfire.com/sd/par/midi/sieterejas.mid || Path: ./midis/songs26.mid\n",
      "Link: http://www.angelfire.com/sd/par/midi/danzadicalaluna.mid || Path: ./midis/songs27.mid\n",
      "Link: http://www.angelfire.com/sd/par/midi/vientosdelpueblo.mid || Path: ./midis/songs28.mid\n",
      "Link: http://www.angelfire.com/sd/par/midi/elpueblounido.mid || Path: ./midis/songs29.mid\n",
      "Link: http://www.angelfire.com/sd/par/midi/lafiestadesanbenito.mid || Path: ./midis/songs30.mid\n",
      "Link: http://www.angelfire.com/sd/par/midi/elvals.mid || Path: ./midis/songs31.mid\n",
      "Link: http://www.angelfire.com/sd/par/midi/01.mid || Path: ./midis/songs32.mid\n",
      "Link: http://www.angelfire.com/sd/par/midi/02.mid || Path: ./midis/songs33.mid\n",
      "Link: http://www.angelfire.com/sd/par/midi/04.mid || Path: ./midis/songs34.mid\n",
      "Link: http://www.angelfire.com/sd/par/midi/05.mid || Path: ./midis/songs35.mid\n",
      "Link: http://www.angelfire.com/sd/par/midi/07.mid || Path: ./midis/songs36.mid\n",
      "Link: http://www.angelfire.com/sd/par/midi/08.mid || Path: ./midis/songs37.mid\n",
      "Link: http://www.angelfire.com/sd/par/midi/10.mid || Path: ./midis/songs38.mid\n",
      "Link: http://www.angelfire.com/sd/par/midi/12.mid || Path: ./midis/songs39.mid\n",
      "Link: http://www.angelfire.com/sd/par/midi/13.mid || Path: ./midis/songs40.mid\n",
      "Link: http://www.angelfire.com/sd/par/midi/15.mid || Path: ./midis/songs41.mid\n",
      "Link: http://www.angelfire.com/sd/par/midi/16.mid || Path: ./midis/songs42.mid\n",
      "Link: http://www.angelfire.com/sd/par/midi/corazonmaldito.mid || Path: ./midis/songs43.mid\n",
      "Link: http://www.angelfire.com/sd/par/midi/caicaivilu.mid || Path: ./midis/songs44.mid\n",
      "Link: http://www.angelfire.com/sd/par/midi/caicaivilu.mid || Path: ./midis/songs45.mid\n",
      "Link: http://www.angelfire.com/sd/par/midi/nichichanilimona.mid || Path: ./midis/songs46.mid\n",
      "Link: http://www.angelfire.com/sd/par/midi/enalgunlugardelpuerto.mid || Path: ./midis/songs47.mid\n",
      "Link: http://www.angelfire.com/sd/par/midi/plegariaaunlabrador.mid || Path: ./midis/songs48.mid\n",
      "Link: http://www.angelfire.com/sd/par/midi/volveralos17.mid || Path: ./midis/songs49.mid\n",
      "Link: http://www.angelfire.com/sd/par/midi/ellazo.mid || Path: ./midis/songs50.mid\n",
      "Falló archivo: http://www.angelfire.com/sd/par/midi/ellazo.mid\n",
      "Link: http://www.angelfire.com/sd/par/midi/angelitahuenuman.mid || Path: ./midis/songs51.mid\n",
      "Falló archivo: http://www.angelfire.com/sd/par/midi/angelitahuenuman.mid\n",
      "Link: http://www.angelfire.com/sd/par/midi/quelindoesservoluntario.mid || Path: ./midis/songs52.mid\n",
      "Link: http://www.angelfire.com/sd/par/midi/veniandeldesierto.mid || Path: ./midis/songs53.mid\n",
      "Link: http://www.angelfire.com/sd/par/midi/quienmatoacarmencita.mid || Path: ./midis/songs54.mid\n",
      "Link: http://www.angelfire.com/sd/par/midi/corridodepanchovilla.mid || Path: ./midis/songs55.mid\n",
      "Link: http://www.angelfire.com/sd/par/midi/calambitotemucano.mid || Path: ./midis/songs56.mid\n",
      "Link: http://www.angelfire.com/sd/par/midi/oigapuesmhijita.mid || Path: ./midis/songs57.mid\n",
      "Link: http://www.angelfire.com/sd/par/midi/ventolera.mid || Path: ./midis/songs58.mid\n",
      "Link: http://www.angelfire.com/sd/par/midi/somospajaroslibres.mid || Path: ./midis/songs59.mid\n",
      "Link: http://www.angelfire.com/sd/par/midi/bastaya.mid || Path: ./midis/songs60.mid\n",
      "Link: http://www.angelfire.com/sd/par/midi/arribaquemandoelsol.mid || Path: ./midis/songs61.mid\n",
      "Link: http://www.angelfire.com/sd/par/midi/lamaza.mid || Path: ./midis/songs62.mid\n",
      "Link: http://www.angelfire.com/sd/par/midi/giragiragirasol.mid || Path: ./midis/songs63.mid\n",
      "Falló archivo: http://www.angelfire.com/sd/par/midi/giragiragirasol.mid\n",
      "Link: http://www.angelfire.com/sd/par/midi/mercedes.mid || Path: ./midis/songs64.mid\n",
      "Link: http://www.angelfire.com/sd/par/midi/amiciudad.mid || Path: ./midis/songs65.mid\n",
      "Link: http://www.angelfire.com/sd/par/midi/temadelaquebradadehumahuaca.mid || Path: ./midis/songs66.mid\n",
      "Link: http://www.angelfire.com/sd/par/midi/loquemasquiero.mid || Path: ./midis/songs67.mid\n",
      "Link: http://www.angelfire.com/sd/par/midi/lafiestadelatirana.mid || Path: ./midis/songs68.mid\n",
      "Link: http://www.angelfire.com/sd/par/midi/dolencias.mid || Path: ./midis/songs69.mid\n",
      "Link: http://www.angelfire.com/sd/par/midi/elmercadodetestaccio.mid || Path: ./midis/songs70.mid\n",
      "Link: http://www.angelfire.com/sd/par/midi/abrelaventana.mid || Path: ./midis/songs71.mid\n",
      "Link: http://www.angelfire.com/sd/par/midi/elninoyuntero.mid || Path: ./midis/songs72.mid\n",
      "Link: http://www.angelfire.com/sd/par/midi/amoreshallaras.mid || Path: ./midis/songs73.mid\n",
      "Link: http://www.angelfire.com/sd/par/midi/lamariposa.mid || Path: ./midis/songs74.mid\n",
      "Link: http://www.angelfire.com/sd/par/midi/ella.mid || Path: ./midis/songs75.mid\n",
      "Link: http://www.angelfire.com/sd/par/midi/mariacanela.mid || Path: ./midis/songs76.mid\n",
      "Link: http://www.angelfire.com/sd/par/midi/papeldeplata.mid || Path: ./midis/songs77.mid\n",
      "Link: http://www.angelfire.com/sd/par/midi/lapajita.mid || Path: ./midis/songs78.mid\n",
      "Link: http://www.angelfire.com/sd/par/midi/sirviñaco.mid || Path: ./midis/songs79.mid\n",
      "Falló archivo: http://www.angelfire.com/sd/par/midi/sirviñaco.mid\n",
      "Link: http://www.angelfire.com/sd/par/midi/subida.mid || Path: ./midis/songs80.mid\n",
      "Link: http://www.angelfire.com/sd/par/midi/estudioparacharango.mid || Path: ./midis/songs81.mid\n",
      "Link: http://www.angelfire.com/sd/par/midi/bailandobailando.mid || Path: ./midis/songs82.mid\n",
      "Link: http://www.angelfire.com/sd/par/midi/medianoche.mid || Path: ./midis/songs83.mid\n"
     ]
    }
   ],
   "source": [
    "soup = BeautifulSoup(response.text, 'html.parser')\n",
    "partial_url = 'http://www.angelfire.com/sd/par/'\n",
    "links = soup.findAll('a')\n",
    "n = 1\n",
    "for link in links:\n",
    "    partial_link = link['href']\n",
    "    if '.mid' in partial_link:\n",
    "        download_link = '{}{}'.format(partial_url, partial_link)\n",
    "        file_path = './midis/songs{}.mid'.format(n)\n",
    "        print('Link: {} || Path: {}'.format(download_link, file_path))\n",
    "        try:\n",
    "            urllib.request.urlretrieve(download_link,file_path)\n",
    "            time.sleep(1)\n",
    "        except:\n",
    "            print('Falló archivo: {}'.format(download_link))\n",
    "        n = n+1"
   ]
  },
  {
   "cell_type": "code",
   "execution_count": null,
   "metadata": {},
   "outputs": [],
   "source": []
  }
 ],
 "metadata": {
  "kernelspec": {
   "display_name": "Python 3",
   "language": "python",
   "name": "python3"
  },
  "language_info": {
   "codemirror_mode": {
    "name": "ipython",
    "version": 3
   },
   "file_extension": ".py",
   "mimetype": "text/x-python",
   "name": "python",
   "nbconvert_exporter": "python",
   "pygments_lexer": "ipython3",
   "version": "3.7.3"
  }
 },
 "nbformat": 4,
 "nbformat_minor": 4
}
