{
 "cells": [
  {
   "cell_type": "markdown",
   "metadata": {},
   "source": [
    "# Handle MIDI file converted to CSV\n",
    "*Uses MIDICSV/CSVMIDI linux program through bash*"
   ]
  },
  {
   "cell_type": "code",
   "execution_count": 99,
   "metadata": {},
   "outputs": [],
   "source": [
    "import pandas as pd\n",
    "import os"
   ]
  },
  {
   "cell_type": "markdown",
   "metadata": {},
   "source": [
    "*I want to extract the main melody voice or melodic line*<br>Example for 1 file"
   ]
  },
  {
   "cell_type": "code",
   "execution_count": 100,
   "metadata": {},
   "outputs": [
    {
     "data": {
      "text/html": [
       "<div>\n",
       "<style scoped>\n",
       "    .dataframe tbody tr th:only-of-type {\n",
       "        vertical-align: middle;\n",
       "    }\n",
       "\n",
       "    .dataframe tbody tr th {\n",
       "        vertical-align: top;\n",
       "    }\n",
       "\n",
       "    .dataframe thead th {\n",
       "        text-align: right;\n",
       "    }\n",
       "</style>\n",
       "<table border=\"1\" class=\"dataframe\">\n",
       "  <thead>\n",
       "    <tr style=\"text-align: right;\">\n",
       "      <th></th>\n",
       "      <th>track</th>\n",
       "      <th>time</th>\n",
       "      <th>title</th>\n",
       "      <th>text</th>\n",
       "      <th>note</th>\n",
       "      <th>velocity</th>\n",
       "    </tr>\n",
       "  </thead>\n",
       "  <tbody>\n",
       "    <tr>\n",
       "      <th>0</th>\n",
       "      <td>0</td>\n",
       "      <td>0</td>\n",
       "      <td>Header</td>\n",
       "      <td>1</td>\n",
       "      <td>9</td>\n",
       "      <td>480.0</td>\n",
       "    </tr>\n",
       "    <tr>\n",
       "      <th>1</th>\n",
       "      <td>1</td>\n",
       "      <td>0</td>\n",
       "      <td>Start_track</td>\n",
       "      <td>NaN</td>\n",
       "      <td>NaN</td>\n",
       "      <td>NaN</td>\n",
       "    </tr>\n",
       "    <tr>\n",
       "      <th>2</th>\n",
       "      <td>1</td>\n",
       "      <td>0</td>\n",
       "      <td>Title_t</td>\n",
       "      <td>\"Run Run Se Fue Pa'l Norte\"</td>\n",
       "      <td>NaN</td>\n",
       "      <td>NaN</td>\n",
       "    </tr>\n",
       "    <tr>\n",
       "      <th>3</th>\n",
       "      <td>1</td>\n",
       "      <td>0</td>\n",
       "      <td>Text_t</td>\n",
       "      <td>\"Violeta Parra (Arreglo de Luis Advis)\"</td>\n",
       "      <td>NaN</td>\n",
       "      <td>NaN</td>\n",
       "    </tr>\n",
       "  </tbody>\n",
       "</table>\n",
       "</div>"
      ],
      "text/plain": [
       "   track  time         title                                      text note  \\\n",
       "0      0     0        Header                                         1    9   \n",
       "1      1     0   Start_track                                       NaN  NaN   \n",
       "2      1     0       Title_t               \"Run Run Se Fue Pa'l Norte\"  NaN   \n",
       "3      1     0        Text_t   \"Violeta Parra (Arreglo de Luis Advis)\"  NaN   \n",
       "\n",
       "   velocity  \n",
       "0     480.0  \n",
       "1       NaN  \n",
       "2       NaN  \n",
       "3       NaN  "
      ]
     },
     "execution_count": 100,
     "metadata": {},
     "output_type": "execute_result"
    }
   ],
   "source": [
    "pathstr = './csv/'\n",
    "n_song = 23\n",
    "filename = 'songs{}.csv'.format(n_song)\n",
    "\n",
    "header_names = [\n",
    "    'track',\n",
    "    'time',\n",
    "    'title',\n",
    "    'text',\n",
    "    'note',\n",
    "    'velocity']\n",
    "data = pd.read_csv(\n",
    "    '{}{}'.format(pathstr, filename),\n",
    "    names=header_names,\n",
    "    encoding = 'ISO-8859-1')\n",
    "data.head(4)"
   ]
  },
  {
   "cell_type": "markdown",
   "metadata": {},
   "source": [
    "Create DataFrame array. One per track."
   ]
  },
  {
   "cell_type": "code",
   "execution_count": 101,
   "metadata": {},
   "outputs": [],
   "source": [
    "tracks_df = {}\n",
    "\n",
    "for idx in list(data['track'].unique()):\n",
    "    tracks_df[idx] = data.loc[data['track'] == idx]\n"
   ]
  },
  {
   "cell_type": "markdown",
   "metadata": {},
   "source": [
    "*Checking the first 3 rows from every new dataframe*"
   ]
  },
  {
   "cell_type": "code",
   "execution_count": 102,
   "metadata": {},
   "outputs": [
    {
     "name": "stdout",
     "output_type": "stream",
     "text": [
      "       track  time         title text note  velocity\n",
      "0          0     0        Header    1    9     480.0\n",
      "12460      0     0   End_of_file  NaN  NaN       NaN \n",
      "---------------------\n",
      "\n",
      "   track  time         title                                      text note  \\\n",
      "1      1     0   Start_track                                       NaN  NaN   \n",
      "2      1     0       Title_t               \"Run Run Se Fue Pa'l Norte\"  NaN   \n",
      "3      1     0        Text_t   \"Violeta Parra (Arreglo de Luis Advis)\"  NaN   \n",
      "\n",
      "   velocity  \n",
      "1       NaN  \n",
      "2       NaN  \n",
      "3       NaN   \n",
      "---------------------\n",
      "\n",
      "    track  time         title         text note  velocity\n",
      "39      2     0   Start_track          NaN  NaN       NaN\n",
      "40      2     0     MIDI_port            0  NaN       NaN\n",
      "41      2     0       Title_t   \"Guitarra\"  NaN       NaN \n",
      "---------------------\n",
      "\n",
      "      track  time         title      text note  velocity\n",
      "4386      3     0   Start_track       NaN  NaN       NaN\n",
      "4387      3     0     MIDI_port         0  NaN       NaN\n",
      "4388      3     0       Title_t   \"Tiple\"  NaN       NaN \n",
      "---------------------\n",
      "\n",
      "       track  time         title      text note  velocity\n",
      "11346      4     0   Start_track       NaN  NaN       NaN\n",
      "11347      4     0     MIDI_port         0  NaN       NaN\n",
      "11348      4     0       Title_t   \"Canto\"  NaN       NaN \n",
      "---------------------\n",
      "\n",
      "       track  time         title        text note  velocity\n",
      "11466      5     0   Start_track         NaN  NaN       NaN\n",
      "11467      5     0     MIDI_port           0  NaN       NaN\n",
      "11468      5     0       Title_t   \"Quena 1\"  NaN       NaN \n",
      "---------------------\n",
      "\n",
      "       track  time         title        text note  velocity\n",
      "11814      6     0   Start_track         NaN  NaN       NaN\n",
      "11815      6     0     MIDI_port           0  NaN       NaN\n",
      "11816      6     0       Title_t   \"Quena 2\"  NaN       NaN \n",
      "---------------------\n",
      "\n",
      "       track  time         title      text note  velocity\n",
      "12002      7     0   Start_track       NaN  NaN       NaN\n",
      "12003      7     0     MIDI_port         0  NaN       NaN\n",
      "12004      7     0       Title_t   \"Bombo\"  NaN       NaN \n",
      "---------------------\n",
      "\n",
      "       track  time         title  \\\n",
      "12452      8     0   Start_track   \n",
      "12453      8     0     MIDI_port   \n",
      "12454      8     0       Title_t   \n",
      "\n",
      "                                                    text note  velocity  \n",
      "12452                                                NaN  NaN       NaN  \n",
      "12453                                                  0  NaN       NaN  \n",
      "12454   \"Run Run Se Fue Pa'l Norte (Violeta Parra - a...  NaN       NaN   \n",
      "---------------------\n",
      "\n",
      "       track  time         title                                  text note  \\\n",
      "12456      9     0   Start_track                                   NaN  NaN   \n",
      "12457      9     0     MIDI_port                                     0  NaN   \n",
      "12458      9     0       Title_t   \"Secuencia Midi por Maikel B. 2001\"  NaN   \n",
      "\n",
      "       velocity  \n",
      "12456       NaN  \n",
      "12457       NaN  \n",
      "12458       NaN   \n",
      "---------------------\n",
      "\n"
     ]
    }
   ],
   "source": [
    "for ndicc in range(len(tracks_df)):\n",
    "    print(tracks_df[ndicc].head(3), '\\n---------------------\\n')\n"
   ]
  },
  {
   "cell_type": "code",
   "execution_count": 105,
   "metadata": {},
   "outputs": [
    {
     "name": "stdout",
     "output_type": "stream",
     "text": [
      "./csv/23/23.csv\n",
      "mkdir: no se puede crear el directorio «./csv/23»: El archivo ya existe\n",
      "csvmidi: Error on line 1:\n",
      "    track,time,title,text,note,velocity\n",
      "  Unknown record type: \"title\".\n"
     ]
    }
   ],
   "source": [
    "dir = './csv/'\n",
    "song_dir = '{}{}'.format(dir, n_song)\n",
    "song_file = '{}/{}.csv'.format(song_dir, n_song)\n",
    "midi_file = '{}/{}.mid'.format(song_dir, n_song)\n",
    "print(song_file)\n",
    "! mkdir {song_dir}\n",
    "ndf = pd.DataFrame.append(tracks_df[0],tracks_df[4])\n",
    "ndf.to_csv(song_file, index=False)\n",
    "! csvmidi {song_file} {midi_file} -v"
   ]
  },
  {
   "cell_type": "code",
   "execution_count": null,
   "metadata": {},
   "outputs": [],
   "source": []
  }
 ],
 "metadata": {
  "kernelspec": {
   "display_name": "Python 3",
   "language": "python",
   "name": "python3"
  },
  "language_info": {
   "codemirror_mode": {
    "name": "ipython",
    "version": 3
   },
   "file_extension": ".py",
   "mimetype": "text/x-python",
   "name": "python",
   "nbconvert_exporter": "python",
   "pygments_lexer": "ipython3",
   "version": "3.7.3"
  }
 },
 "nbformat": 4,
 "nbformat_minor": 4
}
